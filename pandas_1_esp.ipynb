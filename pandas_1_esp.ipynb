{
 "cells": [
  {
   "cell_type": "markdown",
   "metadata": {},
   "source": [
    "# Laboratorio de Introducción a Pandas\n",
    "\n",
    "Completa el siguiente conjunto de ejercicios para consolidar tu conocimiento de los fundamentos de Pandas.\n",
    "\n",
    "### 1. Importa Numpy y Pandas y asígnalos los alias `np` y `pd` respectivamente."
   ]
  },
  {
   "cell_type": "code",
   "execution_count": 1,
   "metadata": {},
   "outputs": [],
   "source": [
    "import pandas as pd\n",
    "import numpy as np"
   ]
  },
  {
   "cell_type": "markdown",
   "metadata": {},
   "source": [
    "### 2. Crea una Serie de Pandas que contenga los elementos de la lista a continuación."
   ]
  },
  {
   "cell_type": "code",
   "execution_count": 2,
   "metadata": {},
   "outputs": [],
   "source": [
    "lst = [5.7, 75.2, 74.4, 84.0, 66.5, 66.3, 55.8, 75.7, 29.1, 43.7]"
   ]
  },
  {
   "cell_type": "code",
   "execution_count": 3,
   "metadata": {},
   "outputs": [
    {
     "name": "stdout",
     "output_type": "stream",
     "text": [
      "0     5.7\n",
      "1    75.2\n",
      "2    74.4\n",
      "3    84.0\n",
      "4    66.5\n",
      "5    66.3\n",
      "6    55.8\n",
      "7    75.7\n",
      "8    29.1\n",
      "9    43.7\n",
      "dtype: float64\n"
     ]
    }
   ],
   "source": [
    "lst = [5.7, 75.2, 74.4, 84.0, 66.5, 66.3, 55.8, 75.7, 29.1, 43.7]\n",
    "\n",
    "serie = pd.Series(lst)\n",
    "\n",
    "print(serie)"
   ]
  },
  {
   "cell_type": "markdown",
   "metadata": {},
   "source": [
    "### 3. Usa la indexación para devolver el tercer valor en la Serie anterior.\n",
    "\n",
    "*Sugerencia: Recuerda que la indexación comienza en 0.*"
   ]
  },
  {
   "cell_type": "code",
   "execution_count": 4,
   "metadata": {},
   "outputs": [
    {
     "name": "stdout",
     "output_type": "stream",
     "text": [
      "74.4\n"
     ]
    }
   ],
   "source": [
    "lst = [5.7, 75.2, 74.4, 84.0, 66.5, 66.3, 55.8, 75.7, 29.1, 43.7]\n",
    "\n",
    "serie = pd.Series(lst)\n",
    "\n",
    "tercer_valor = serie[2]\n",
    "\n",
    "print(tercer_valor)"
   ]
  },
  {
   "cell_type": "markdown",
   "metadata": {},
   "source": [
    "### 4. Crea un DataFrame de Pandas a partir de la lista de listas a continuación. Cada sublista debe representarse como una fila."
   ]
  },
  {
   "cell_type": "code",
   "execution_count": 5,
   "metadata": {},
   "outputs": [],
   "source": [
    "b = [[53.1, 95.0, 67.5, 35.0, 78.4],\n",
    "     [61.3, 40.8, 30.8, 37.8, 87.6],\n",
    "     [20.6, 73.2, 44.2, 14.6, 91.8],\n",
    "     [57.4, 0.1, 96.1, 4.2, 69.5],\n",
    "     [83.6, 20.5, 85.4, 22.8, 35.9],\n",
    "     [49.0, 69.0, 0.1, 31.8, 89.1],\n",
    "     [23.3, 40.7, 95.0, 83.8, 26.9],\n",
    "     [27.6, 26.4, 53.8, 88.8, 68.5],\n",
    "     [96.6, 96.4, 53.4, 72.4, 50.1],\n",
    "     [73.7, 39.0, 43.2, 81.6, 34.7]]"
   ]
  },
  {
   "cell_type": "code",
   "execution_count": 5,
   "metadata": {},
   "outputs": [
    {
     "name": "stdout",
     "output_type": "stream",
     "text": [
      "      0     1     2     3     4\n",
      "0  53.1  95.0  67.5  35.0  78.4\n",
      "1  61.3  40.8  30.8  37.8  87.6\n",
      "2  20.6  73.2  44.2  14.6  91.8\n",
      "3  57.4   0.1  96.1   4.2  69.5\n",
      "4  83.6  20.5  85.4  22.8  35.9\n",
      "5  49.0  69.0   0.1  31.8  89.1\n",
      "6  23.3  40.7  95.0  83.8  26.9\n",
      "7  27.6  26.4  53.8  88.8  68.5\n",
      "8  96.6  96.4  53.4  72.4  50.1\n",
      "9  73.7  39.0  43.2  81.6  34.7\n"
     ]
    }
   ],
   "source": [
    "b = [\n",
    "    [53.1, 95.0, 67.5, 35.0, 78.4],\n",
    "    [61.3, 40.8, 30.8, 37.8, 87.6],\n",
    "    [20.6, 73.2, 44.2, 14.6, 91.8],\n",
    "    [57.4, 0.1, 96.1, 4.2, 69.5],\n",
    "    [83.6, 20.5, 85.4, 22.8, 35.9],\n",
    "    [49.0, 69.0, 0.1, 31.8, 89.1],\n",
    "    [23.3, 40.7, 95.0, 83.8, 26.9],\n",
    "    [27.6, 26.4, 53.8, 88.8, 68.5],\n",
    "    [96.6, 96.4, 53.4, 72.4, 50.1],\n",
    "    [73.7, 39.0, 43.2, 81.6, 34.7]\n",
    "]\n",
    "\n",
    "df = pd.DataFrame(b)\n",
    "\n",
    "\n",
    "print(df)"
   ]
  },
  {
   "cell_type": "markdown",
   "metadata": {},
   "source": [
    "### 5. Renombra las columnas del DataFrame basándote en los nombres de la lista a continuación."
   ]
  },
  {
   "cell_type": "code",
   "execution_count": 7,
   "metadata": {},
   "outputs": [],
   "source": [
    "b = [[53.1, 95.0, 67.5, 35.0, 78.4],\n",
    "     [61.3, 40.8, 30.8, 37.8, 87.6],\n",
    "     [20.6, 73.2, 44.2, 14.6, 91.8],\n",
    "     [57.4, 0.1, 96.1, 4.2, 69.5],\n",
    "     [83.6, 20.5, 85.4, 22.8, 35.9],\n",
    "     [49.0, 69.0, 0.1, 31.8, 89.1],\n",
    "     [23.3, 40.7, 95.0, 83.8, 26.9],\n",
    "     [27.6, 26.4, 53.8, 88.8, 68.5],\n",
    "     [96.6, 96.4, 53.4, 72.4, 50.1],\n",
    "     [73.7, 39.0, 43.2, 81.6, 34.7]]"
   ]
  },
  {
   "cell_type": "code",
   "execution_count": 6,
   "metadata": {},
   "outputs": [
    {
     "name": "stdout",
     "output_type": "stream",
     "text": [
      "      A     B     C     D     E\n",
      "0  53.1  95.0  67.5  35.0  78.4\n",
      "1  61.3  40.8  30.8  37.8  87.6\n",
      "2  20.6  73.2  44.2  14.6  91.8\n",
      "3  57.4   0.1  96.1   4.2  69.5\n",
      "4  83.6  20.5  85.4  22.8  35.9\n",
      "5  49.0  69.0   0.1  31.8  89.1\n",
      "6  23.3  40.7  95.0  83.8  26.9\n",
      "7  27.6  26.4  53.8  88.8  68.5\n",
      "8  96.6  96.4  53.4  72.4  50.1\n",
      "9  73.7  39.0  43.2  81.6  34.7\n"
     ]
    }
   ],
   "source": [
    "b = [\n",
    "    [53.1, 95.0, 67.5, 35.0, 78.4],\n",
    "    [61.3, 40.8, 30.8, 37.8, 87.6],\n",
    "    [20.6, 73.2, 44.2, 14.6, 91.8],\n",
    "    [57.4, 0.1, 96.1, 4.2, 69.5],\n",
    "    [83.6, 20.5, 85.4, 22.8, 35.9],\n",
    "    [49.0, 69.0, 0.1, 31.8, 89.1],\n",
    "    [23.3, 40.7, 95.0, 83.8, 26.9],\n",
    "    [27.6, 26.4, 53.8, 88.8, 68.5],\n",
    "    [96.6, 96.4, 53.4, 72.4, 50.1],\n",
    "    [73.7, 39.0, 43.2, 81.6, 34.7]\n",
    "]\n",
    "\n",
    "# Crear un DataFrame de Pandas\n",
    "df = pd.DataFrame(b)\n",
    "\n",
    "# Nombres de las nuevas columnas\n",
    "column_names = [\"A\", \"B\", \"C\", \"D\", \"E\"]\n",
    "\n",
    "# Renombrar las columnas del DataFrame\n",
    "df.columns = column_names\n",
    "\n",
    "# Mostrar el DataFrame con las nuevas columnas\n",
    "print(df)"
   ]
  },
  {
   "cell_type": "markdown",
   "metadata": {},
   "source": [
    "### 6. Crea un subconjunto de este DataFrame que contenga solo las columnas de Puntuación 1, 3 y 5."
   ]
  },
  {
   "cell_type": "code",
   "execution_count": 7,
   "metadata": {},
   "outputs": [
    {
     "name": "stdout",
     "output_type": "stream",
     "text": [
      "   Puntuación 1  Puntuación 3  Puntuación 5\n",
      "0          53.1          67.5          78.4\n",
      "1          61.3          30.8          87.6\n",
      "2          20.6          44.2          91.8\n",
      "3          57.4          96.1          69.5\n",
      "4          83.6          85.4          35.9\n",
      "5          49.0           0.1          89.1\n",
      "6          23.3          95.0          26.9\n",
      "7          27.6          53.8          68.5\n",
      "8          96.6          53.4          50.1\n",
      "9          73.7          43.2          34.7\n"
     ]
    }
   ],
   "source": [
    "b = [\n",
    "    [53.1, 95.0, 67.5, 35.0, 78.4],\n",
    "    [61.3, 40.8, 30.8, 37.8, 87.6],\n",
    "    [20.6, 73.2, 44.2, 14.6, 91.8],\n",
    "    [57.4, 0.1, 96.1, 4.2, 69.5],\n",
    "    [83.6, 20.5, 85.4, 22.8, 35.9],\n",
    "    [49.0, 69.0, 0.1, 31.8, 89.1],\n",
    "    [23.3, 40.7, 95.0, 83.8, 26.9],\n",
    "    [27.6, 26.4, 53.8, 88.8, 68.5],\n",
    "    [96.6, 96.4, 53.4, 72.4, 50.1],\n",
    "    [73.7, 39.0, 43.2, 81.6, 34.7]\n",
    "]\n",
    "\n",
    "# Crear un DataFrame de Pandas\n",
    "df = pd.DataFrame(b)\n",
    "\n",
    "# Nombres de las columnas\n",
    "column_names = [\"Puntuación 1\", \"Puntuación 2\", \"Puntuación 3\", \"Puntuación 4\", \"Puntuación 5\"]\n",
    "\n",
    "# Renombrar las columnas del DataFrame\n",
    "df.columns = column_names\n",
    "\n",
    "# Crear un subconjunto del DataFrame con solo las columnas Puntuación 1, 3 y 5\n",
    "subset_df = df[[\"Puntuación 1\", \"Puntuación 3\", \"Puntuación 5\"]]\n",
    "\n",
    "# Mostrar el subconjunto del DataFrame\n",
    "print(subset_df)"
   ]
  },
  {
   "cell_type": "markdown",
   "metadata": {},
   "source": [
    "### 7. Del DataFrame original, calcula el valor promedio de Score_3."
   ]
  },
  {
   "cell_type": "code",
   "execution_count": 8,
   "metadata": {},
   "outputs": [
    {
     "name": "stdout",
     "output_type": "stream",
     "text": [
      "El valor promedio de Score_3 es: 56.95000000000001\n"
     ]
    }
   ],
   "source": [
    "b = [\n",
    "    [53.1, 95.0, 67.5, 35.0, 78.4],\n",
    "    [61.3, 40.8, 30.8, 37.8, 87.6],\n",
    "    [20.6, 73.2, 44.2, 14.6, 91.8],\n",
    "    [57.4, 0.1, 96.1, 4.2, 69.5],\n",
    "    [83.6, 20.5, 85.4, 22.8, 35.9],\n",
    "    [49.0, 69.0, 0.1, 31.8, 89.1],\n",
    "    [23.3, 40.7, 95.0, 83.8, 26.9],\n",
    "    [27.6, 26.4, 53.8, 88.8, 68.5],\n",
    "    [96.6, 96.4, 53.4, 72.4, 50.1],\n",
    "    [73.7, 39.0, 43.2, 81.6, 34.7]\n",
    "]\n",
    "\n",
    "df = pd.DataFrame(b)\n",
    "\n",
    "column_names = [\"Score_1\", \"Score_2\", \"Score_3\", \"Score_4\", \"Score_5\"]\n",
    "\n",
    "df.columns = column_names\n",
    "\n",
    "average_score_3 = df[\"Score_3\"].mean()\n",
    "\n",
    "print(f\"El valor promedio de Score_3 es: {average_score_3}\")"
   ]
  },
  {
   "cell_type": "markdown",
   "metadata": {},
   "source": [
    "### 8. Del DataFrame original, calcula el máximo valor del Score_4."
   ]
  },
  {
   "cell_type": "code",
   "execution_count": 9,
   "metadata": {},
   "outputs": [
    {
     "name": "stdout",
     "output_type": "stream",
     "text": [
      "El valor máximo de Score_4 es: 88.8\n"
     ]
    }
   ],
   "source": [
    "b = [\n",
    "    [53.1, 95.0, 67.5, 35.0, 78.4],\n",
    "    [61.3, 40.8, 30.8, 37.8, 87.6],\n",
    "    [20.6, 73.2, 44.2, 14.6, 91.8],\n",
    "    [57.4, 0.1, 96.1, 4.2, 69.5],\n",
    "    [83.6, 20.5, 85.4, 22.8, 35.9],\n",
    "    [49.0, 69.0, 0.1, 31.8, 89.1],\n",
    "    [23.3, 40.7, 95.0, 83.8, 26.9],\n",
    "    [27.6, 26.4, 53.8, 88.8, 68.5],\n",
    "    [96.6, 96.4, 53.4, 72.4, 50.1],\n",
    "    [73.7, 39.0, 43.2, 81.6, 34.7]\n",
    "]\n",
    "\n",
    "df = pd.DataFrame(b)\n",
    "\n",
    "column_names = [\"Score_1\", \"Score_2\", \"Score_3\", \"Score_4\", \"Score_5\"]\n",
    "\n",
    "df.columns = column_names\n",
    "\n",
    "max_score_4 = df[\"Score_4\"].max()\n",
    "\n",
    "print(f\"El valor máximo de Score_4 es: {max_score_4}\")"
   ]
  },
  {
   "cell_type": "markdown",
   "metadata": {},
   "source": [
    "### 9. Del DataFrame original, calcula la media valor del Score_2."
   ]
  },
  {
   "cell_type": "code",
   "execution_count": 10,
   "metadata": {},
   "outputs": [
    {
     "name": "stdout",
     "output_type": "stream",
     "text": [
      "El valor promedio de Score_2 es: 50.11\n"
     ]
    }
   ],
   "source": [
    "df = pd.DataFrame(b)\n",
    "\n",
    "column_names = [\"Score_1\", \"Score_2\", \"Score_3\", \"Score_4\", \"Score_5\"]\n",
    "\n",
    "df.columns = column_names\n",
    "\n",
    "mean_score_2 = df[\"Score_2\"].mean()\n",
    "\n",
    "print(f\"El valor promedio de Score_2 es: {mean_score_2}\")"
   ]
  },
  {
   "cell_type": "markdown",
   "metadata": {},
   "source": [
    "### 10. Crea un DataFrame de Pandas a partir del diccionario de pedidos de productos a continuación."
   ]
  },
  {
   "cell_type": "code",
   "execution_count": 12,
   "metadata": {},
   "outputs": [],
   "source": [
    "orders = {'Description': ['LUNCH BAG APPLE DESIGN',\n",
    "  'SET OF 60 VINTAGE LEAF CAKE CASES ',\n",
    "  'RIBBON REEL STRIPES DESIGN ',\n",
    "  'WORLD WAR 2 GLIDERS ASSTD DESIGNS',\n",
    "  'PLAYING CARDS JUBILEE UNION JACK',\n",
    "  'POPCORN HOLDER',\n",
    "  'BOX OF VINTAGE ALPHABET BLOCKS',\n",
    "  'PARTY BUNTING',\n",
    "  'JAZZ HEARTS ADDRESS BOOK',\n",
    "  'SET OF 4 SANTA PLACE SETTINGS'],\n",
    " 'Quantity': [1, 24, 1, 2880, 2, 7, 1, 4, 10, 48],\n",
    " 'UnitPrice': [1.65, 0.55, 1.65, 0.18, 1.25, 0.85, 11.95, 4.95, 0.19, 1.25],\n",
    " 'Revenue': [1.65, 13.2, 1.65, 518.4, 2.5, 5.95, 11.95, 19.8, 1.9, 60.0]}"
   ]
  },
  {
   "cell_type": "code",
   "execution_count": null,
   "metadata": {},
   "outputs": [],
   "source": [
    "\n"
   ]
  },
  {
   "cell_type": "markdown",
   "metadata": {},
   "source": [
    "### 11. Calcula la cantidad total pedida y los ingresos generados a partir de estos pedidos."
   ]
  },
  {
   "cell_type": "code",
   "execution_count": 13,
   "metadata": {},
   "outputs": [],
   "source": [
    "df_orders = pd.DataFrame(orders)\n",
    "\n",
    "total_quantity = df_orders['Quantity'].sum()\n",
    "\n",
    "total_revenue = df_orders['Revenue'].sum()"
   ]
  },
  {
   "cell_type": "markdown",
   "metadata": {},
   "source": [
    "### 12. Obten los precios del artículo más caro y del más barato pedidos e imprime la diferencia."
   ]
  },
  {
   "cell_type": "code",
   "execution_count": 14,
   "metadata": {},
   "outputs": [],
   "source": [
    "df_orders = pd.DataFrame(orders)\n",
    "\n",
    "max_price = df_orders['UnitPrice'].max()\n",
    "\n",
    "min_price = df_orders['UnitPrice'].min()\n",
    "\n",
    "price_difference = max_price - min_price\n"
   ]
  },
  {
   "cell_type": "markdown",
   "metadata": {},
   "source": [
    "## Carguemos otro conjunto de datos para más ejercicios"
   ]
  },
  {
   "cell_type": "code",
   "execution_count": 16,
   "metadata": {},
   "outputs": [],
   "source": [
    "# Tu código aquí\n",
    "admissions = pd.read_csv('Admission_Predict.csv')"
   ]
  },
  {
   "cell_type": "markdown",
   "metadata": {},
   "source": [
    "Evaluemos el conjunto de datos mirando la función `head`."
   ]
  },
  {
   "cell_type": "code",
   "execution_count": 20,
   "metadata": {},
   "outputs": [
    {
     "data": {
      "text/html": [
       "<div>\n",
       "<style scoped>\n",
       "    .dataframe tbody tr th:only-of-type {\n",
       "        vertical-align: middle;\n",
       "    }\n",
       "\n",
       "    .dataframe tbody tr th {\n",
       "        vertical-align: top;\n",
       "    }\n",
       "\n",
       "    .dataframe thead th {\n",
       "        text-align: right;\n",
       "    }\n",
       "</style>\n",
       "<table border=\"1\" class=\"dataframe\">\n",
       "  <thead>\n",
       "    <tr style=\"text-align: right;\">\n",
       "      <th></th>\n",
       "      <th>Serial No.</th>\n",
       "      <th>GRE Score</th>\n",
       "      <th>TOEFL Score</th>\n",
       "      <th>University Rating</th>\n",
       "      <th>SOP</th>\n",
       "      <th>LOR</th>\n",
       "      <th>CGPA</th>\n",
       "      <th>Research</th>\n",
       "      <th>Chance of Admit</th>\n",
       "    </tr>\n",
       "  </thead>\n",
       "  <tbody>\n",
       "    <tr>\n",
       "      <th>0</th>\n",
       "      <td>1</td>\n",
       "      <td>337</td>\n",
       "      <td>118</td>\n",
       "      <td>4</td>\n",
       "      <td>4.5</td>\n",
       "      <td>4.5</td>\n",
       "      <td>9.65</td>\n",
       "      <td>1</td>\n",
       "      <td>0.92</td>\n",
       "    </tr>\n",
       "    <tr>\n",
       "      <th>1</th>\n",
       "      <td>2</td>\n",
       "      <td>316</td>\n",
       "      <td>104</td>\n",
       "      <td>3</td>\n",
       "      <td>3.0</td>\n",
       "      <td>3.5</td>\n",
       "      <td>8.00</td>\n",
       "      <td>1</td>\n",
       "      <td>0.72</td>\n",
       "    </tr>\n",
       "    <tr>\n",
       "      <th>2</th>\n",
       "      <td>3</td>\n",
       "      <td>322</td>\n",
       "      <td>110</td>\n",
       "      <td>3</td>\n",
       "      <td>3.5</td>\n",
       "      <td>2.5</td>\n",
       "      <td>8.67</td>\n",
       "      <td>1</td>\n",
       "      <td>0.80</td>\n",
       "    </tr>\n",
       "    <tr>\n",
       "      <th>3</th>\n",
       "      <td>4</td>\n",
       "      <td>314</td>\n",
       "      <td>103</td>\n",
       "      <td>2</td>\n",
       "      <td>2.0</td>\n",
       "      <td>3.0</td>\n",
       "      <td>8.21</td>\n",
       "      <td>0</td>\n",
       "      <td>0.65</td>\n",
       "    </tr>\n",
       "    <tr>\n",
       "      <th>4</th>\n",
       "      <td>5</td>\n",
       "      <td>330</td>\n",
       "      <td>115</td>\n",
       "      <td>5</td>\n",
       "      <td>4.5</td>\n",
       "      <td>3.0</td>\n",
       "      <td>9.34</td>\n",
       "      <td>1</td>\n",
       "      <td>0.90</td>\n",
       "    </tr>\n",
       "  </tbody>\n",
       "</table>\n",
       "</div>"
      ],
      "text/plain": [
       "   Serial No.  GRE Score  TOEFL Score  University Rating  SOP  LOR   CGPA  \\\n",
       "0           1        337          118                  4  4.5   4.5  9.65   \n",
       "1           2        316          104                  3  3.0   3.5  8.00   \n",
       "2           3        322          110                  3  3.5   2.5  8.67   \n",
       "3           4        314          103                  2  2.0   3.0  8.21   \n",
       "4           5        330          115                  5  4.5   3.0  9.34   \n",
       "\n",
       "   Research  Chance of Admit   \n",
       "0         1              0.92  \n",
       "1         1              0.72  \n",
       "2         1              0.80  \n",
       "3         0              0.65  \n",
       "4         1              0.90  "
      ]
     },
     "execution_count": 20,
     "metadata": {},
     "output_type": "execute_result"
    }
   ],
   "source": [
    "admissions.head()"
   ]
  },
  {
   "cell_type": "markdown",
   "metadata": {},
   "source": [
    "### 1 - Antes de comenzar a trabajar con este conjunto de datos y evaluar los datos de admisiones de posgrado, verificaremos que no haya datos faltantes en el conjunto de datos. Haz esto en la celda de abajo."
   ]
  },
  {
   "cell_type": "code",
   "execution_count": 21,
   "metadata": {},
   "outputs": [
    {
     "name": "stdout",
     "output_type": "stream",
     "text": [
      "Valores faltantes en cada columna:\n",
      "Serial No.           0\n",
      "GRE Score            0\n",
      "TOEFL Score          0\n",
      "University Rating    0\n",
      "SOP                  0\n",
      "LOR                  0\n",
      "CGPA                 0\n",
      "Research             0\n",
      "Chance of Admit      0\n",
      "dtype: int64\n"
     ]
    }
   ],
   "source": [
    "\n",
    "missing_values = df.isnull().sum()\n",
    "\n",
    "print(\"Valores faltantes en cada columna:\")\n",
    "print(missing_values)"
   ]
  },
  {
   "cell_type": "markdown",
   "metadata": {},
   "source": [
    "###  2 -  Curiosamente, hay una columna que identifica de manera única a los solicitantes. Esta columna es la columna de número de serie. En lugar de tener nuestro propio índice, deberíamos hacer de esta columna nuestro índice. Haz esto en la celda de abajo. Mantén la columna en el marco de datos además de hacerla un índice."
   ]
  },
  {
   "cell_type": "code",
   "execution_count": 19,
   "metadata": {},
   "outputs": [
    {
     "name": "stdout",
     "output_type": "stream",
     "text": [
      "            Serial No.  GRE Score  TOEFL Score  University Rating  SOP  LOR  \\\n",
      "Serial No.                                                                    \n",
      "1                    1        337          118                  4  4.5  4.5   \n",
      "2                    2        316          104                  3  3.0  3.5   \n",
      "3                    3        322          110                  3  3.5  2.5   \n",
      "4                    4        314          103                  2  2.0  3.0   \n",
      "5                    5        330          115                  5  4.5  3.0   \n",
      "\n",
      "            CGPA  Research  Chance of Admit  \n",
      "Serial No.                                   \n",
      "1           9.65         1             0.92  \n",
      "2           8.00         1             0.72  \n",
      "3           8.67         1             0.80  \n",
      "4           8.21         0             0.65  \n",
      "5           9.34         1             0.90  \n"
     ]
    }
   ],
   "source": [
    "df = pd.DataFrame(data)\n",
    "\n",
    "# Establecer la columna 'Serial No.' como índice sin eliminarla\n",
    "df.set_index('Serial No.', drop=False, inplace=True)\n",
    "\n",
    "# Mostrar el DataFrame para verificar\n",
    "print(df)"
   ]
  },
  {
   "cell_type": "markdown",
   "metadata": {},
   "source": [
    "Resulta que `GRE Score` y `CGPA` también identifican de manera única los datos. Muestra esto en la celda de abajo.\n",
    "\n",
    "### 3 - En esta parte del laboratorio, nos gustaría probar condiciones complejas en todo el conjunto de datos de una vez. Comencemos encontrando el número de filas donde el CGPA es mayor a 9 y el estudiante ha realizado una investigación."
   ]
  },
  {
   "cell_type": "code",
   "execution_count": 22,
   "metadata": {
    "scrolled": true
   },
   "outputs": [],
   "source": [
    "df = pd.DataFrame(data)\n",
    "\n",
    "# Establecer la columna 'Serial No.' como índice sin eliminarla\n",
    "df.set_index('Serial No.', drop=False, inplace=True)\n",
    "\n",
    "# Filtrar el DataFrame para encontrar las filas donde CGPA > 9 y Research = 1\n",
    "filtered_df = df[(df['CGPA'] > 9) & (df['Research'] == 1)]\n",
    "\n",
    "# Contar el número de filas que cumplen con las condiciones\n",
    "num_rows = filtered_df.shape[0]\n"
   ]
  },
  {
   "cell_type": "markdown",
   "metadata": {},
   "source": [
    "### 4 - Ahora devuelve todas las filas donde el CGPA es mayor a 9 y la puntuación SOP es menor a 3.5. Encuentra la probabilidad media de admisión para estos solicitantes."
   ]
  },
  {
   "cell_type": "code",
   "execution_count": 23,
   "metadata": {},
   "outputs": [
    {
     "name": "stdout",
     "output_type": "stream",
     "text": [
      "Filas donde CGPA es mayor a 9 y SOP es menor a 3.5:\n",
      "Empty DataFrame\n",
      "Columns: [Serial No., GRE Score, TOEFL Score, University Rating, SOP, LOR, CGPA, Research, Chance of Admit]\n",
      "Index: []\n"
     ]
    }
   ],
   "source": [
    "df.set_index('Serial No.', drop=False, inplace=True)\n",
    "\n",
    "# Filtrar el DataFrame para encontrar las filas donde CGPA > 9 y SOP < 3.5\n",
    "filtered_df = df[(df['CGPA'] > 9) & (df['SOP'] < 3.5)]\n",
    "\n",
    "# Calcular la probabilidad media de admisión para estos solicitantes\n",
    "mean_admit_chance = filtered_df['Chance of Admit'].mean()\n",
    "\n",
    "# Imprimir las filas filtradas y la probabilidad media de admisión\n",
    "print(\"Filas donde CGPA es mayor a 9 y SOP es menor a 3.5:\")\n",
    "print(filtered_df)"
   ]
  },
  {
   "cell_type": "code",
   "execution_count": null,
   "metadata": {},
   "outputs": [],
   "source": []
  }
 ],
 "metadata": {
  "kernelspec": {
   "display_name": "Python 3 (ipykernel)",
   "language": "python",
   "name": "python3"
  },
  "language_info": {
   "codemirror_mode": {
    "name": "ipython",
    "version": 3
   },
   "file_extension": ".py",
   "mimetype": "text/x-python",
   "name": "python",
   "nbconvert_exporter": "python",
   "pygments_lexer": "ipython3",
   "version": "3.9.13"
  },
  "toc": {
   "base_numbering": "",
   "nav_menu": {},
   "number_sections": false,
   "sideBar": true,
   "skip_h1_title": false,
   "title_cell": "Table of Contents",
   "title_sidebar": "Contents",
   "toc_cell": false,
   "toc_position": {},
   "toc_section_display": true,
   "toc_window_display": true
  }
 },
 "nbformat": 4,
 "nbformat_minor": 2
}
